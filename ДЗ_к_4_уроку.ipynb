{
 "cells": [
  {
   "cell_type": "markdown",
   "metadata": {},
   "source": [
    "# Урок 4"
   ]
  },
  {
   "cell_type": "markdown",
   "metadata": {},
   "source": [
    "## Непрерывные случайные величины. Функция распределения и плотность распределения вероятностей. Равномерное и нормальное распределение. Центральная предельная теорема"
   ]
  },
  {
   "cell_type": "markdown",
   "metadata": {},
   "source": [
    "## Задача 1\n",
    "\n",
    "Коробки с шоколадом упаковываются автоматически. Их средняя масса равна 1.06 кг. Известно, что 5% коробок имеют массу, меньшую 1 кг. Найдите: а) среднее квадратическое отклонение массы коробки, б) процент коробок, имеющих массу больше 1.1 кг.\n",
    "Подсказка. 1. Можно считать, что распределение массы коробки нормальное. 2. Найдите такое значение scale, для которого значение cdf(x=1, loc=1.06, scale=scale) близко к 0.05. Точности 0.0001 будет достаточно."
   ]
  },
  {
   "cell_type": "markdown",
   "metadata": {},
   "source": [
    "### 1-ый ВАРИАНТ"
   ]
  },
  {
   "cell_type": "markdown",
   "metadata": {},
   "source": [
    "а)$A=1.06$\n",
    "\n",
    "$P(X<1)=0.05$\n",
    "\n",
    "$P(X<1)=0.5+Ф(\\frac{1-1.06}{S})=0.5-Ф(\\frac{0.06}{S})=0.05$\n",
    "\n",
    "$Ф(\\frac{0.06}{S})=0.45$\n",
    "\n",
    "$\\frac{0.06}{S}\\approx1.65$\n",
    "\n",
    "$S \\approx 0.0364$"
   ]
  },
  {
   "cell_type": "markdown",
   "metadata": {},
   "source": [
    "б)$P(X>1.1)=0.5-Ф(\\frac{1.1-1.06}{S})\\approx0.5-Ф(1.1111)\\approx0.5-0.3665\\approx0.1335$\n",
    "\n",
    "Ответ: процент коробок, имеющих массу больше 1.1 кг приблизительно равен 13,35%"
   ]
  },
  {
   "cell_type": "markdown",
   "metadata": {},
   "source": [
    "### 2-ой ВАРИАНТ"
   ]
  },
  {
   "cell_type": "code",
   "execution_count": 5,
   "metadata": {},
   "outputs": [],
   "source": [
    "from scipy import stats\n",
    "import numpy as np\n",
    "import pandas as pd"
   ]
  },
  {
   "cell_type": "code",
   "execution_count": 27,
   "metadata": {},
   "outputs": [],
   "source": [
    "loc = 1.06\n",
    "scales = np.arange(0.035, 0.038, 0.0001)\n",
    "prob = [int(stats.norm(loc, scale).cdf(1)*10000)/10000 for scale in scales]\n",
    "d = pd.DataFrame(list(zip(scales, prob)), columns = ['scale', 'prob'])\n",
    "d['diff'] = abs(d['prob'] - 0.05)"
   ]
  },
  {
   "cell_type": "code",
   "execution_count": 28,
   "metadata": {},
   "outputs": [
    {
     "data": {
      "text/plain": [
       "15    0.0365\n",
       "Name: scale, dtype: float64"
      ]
     },
     "execution_count": 28,
     "metadata": {},
     "output_type": "execute_result"
    }
   ],
   "source": [
    "scale = d.loc[d['diff'] == min(d['diff']), 'scale']\n",
    "scale"
   ]
  },
  {
   "cell_type": "code",
   "execution_count": 29,
   "metadata": {},
   "outputs": [
    {
     "name": "stdout",
     "output_type": "stream",
     "text": [
      "Ответ:процент коробок, имеющих массу больше 1.1 кг приблизительно равен 13.66%\n"
     ]
    }
   ],
   "source": [
    "prob = 1 - stats.norm(loc, scale).cdf(1.1)\n",
    "print(f'Ответ:процент коробок, имеющих массу больше 1.1 кг приблизительно равен {prob[0]*100:.02f}%')"
   ]
  },
  {
   "cell_type": "markdown",
   "metadata": {},
   "source": [
    "## Задача 2\n",
    "\n",
    "Коробка содержит 30 конфет. Известно, что масса каждой конфеты распределена равномерно в промежутке от 12 до 14 граммов. Используя центральную предельную теорему, найти вероятность, что масса всей коробки будет: а) меньше 390 граммов, б) больше 395 граммов, в) от 380 до 400 граммов.\n",
    "\n",
    "Массой самой коробки можно пренебречь.\n",
    "\n",
    "Подсказка. Для равномерного распределения в промежутке [a, b]:\n",
    "1. мат. ожидание равно (a + b) / 2,\n",
    "2. дисперсия равна (b - a)^2 / 12."
   ]
  },
  {
   "cell_type": "code",
   "execution_count": 32,
   "metadata": {},
   "outputs": [
    {
     "data": {
      "text/plain": [
       "(390.0, 3.1622776601683795)"
      ]
     },
     "execution_count": 32,
     "metadata": {},
     "output_type": "execute_result"
    }
   ],
   "source": [
    "a,b = 12,14\n",
    "M = (a + b)/2\n",
    "D = (b - a)**2 / 12\n",
    "n = 30\n",
    "loc = n * M\n",
    "scale = (D * n) ** 0.5\n",
    "loc, scale"
   ]
  },
  {
   "cell_type": "code",
   "execution_count": 34,
   "metadata": {},
   "outputs": [
    {
     "data": {
      "text/plain": [
       "0.5"
      ]
     },
     "execution_count": 34,
     "metadata": {},
     "output_type": "execute_result"
    }
   ],
   "source": [
    "#a)меньше 390 граммов\n",
    "box = stats.norm(loc, scale)\n",
    "box1 = box.cdf(390)\n",
    "box1"
   ]
  },
  {
   "cell_type": "code",
   "execution_count": 39,
   "metadata": {},
   "outputs": [
    {
     "data": {
      "text/plain": [
       "0.056923149003329065"
      ]
     },
     "execution_count": 39,
     "metadata": {},
     "output_type": "execute_result"
    }
   ],
   "source": [
    "#б)больше 395 граммов\n",
    "box2 = 1 - box.cdf(395)\n",
    "box2"
   ]
  },
  {
   "cell_type": "code",
   "execution_count": 37,
   "metadata": {},
   "outputs": [
    {
     "data": {
      "text/plain": [
       "0.9984345977419975"
      ]
     },
     "execution_count": 37,
     "metadata": {},
     "output_type": "execute_result"
    }
   ],
   "source": [
    "#в)от 380 до 400 граммов.\n",
    "prob3 = 1 - box.cdf(380) - (1 - box.cdf(400))\n",
    "prob3"
   ]
  },
  {
   "cell_type": "markdown",
   "metadata": {},
   "source": [
    "## Задача 3\n",
    "Продемонстрируйте действие центральной предельной теоремы на каком-нибудь распределении на ваш выбор (кроме нормального). Что для этого нужно сделать:\n",
    "1. Выберите несколько значений n (5, 10, 50).\n",
    "2. Для выбранного значения n сгенерируйте 1000 раз выборку размера n из выбранного вами распределения, посчитайте по этой выборке выборочное среднее.\n",
    "3. Изобразите гистограмму из полученных 1000 значений выборочного среднего с аргументом density=True.\n",
    "4. Поверх гистограммы нарисуйте функцию плотности нормального распределения с параметрами из ЦПТ (т.е. mu = M, sigma^2 = D / n, где M - мат. ожидание выбранного вами распределения,  D - его дисперсия).\n",
    "При достаточно большом n гистограмма должна соответствовать построенной функции плотности."
   ]
  },
  {
   "cell_type": "code",
   "execution_count": 30,
   "metadata": {},
   "outputs": [],
   "source": [
    "from scipy.stats import chi2, norm\n",
    "import matplotlib.pyplot as plt\n",
    "import itertools\n",
    "%matplotlib inline"
   ]
  },
  {
   "cell_type": "code",
   "execution_count": 31,
   "metadata": {},
   "outputs": [
    {
     "data": {
      "text/plain": [
       "Text(0, 0.5, 'Probability')"
      ]
     },
     "execution_count": 31,
     "metadata": {},
     "output_type": "execute_result"
    },
    {
     "data": {
      "image/png": "[encoded data removed]",
      "text/plain": [
       "<Figure size 432x288 with 1 Axes>"
      ]
     },
     "metadata": {
      "needs_background": "light"
     },
     "output_type": "display_data"
    }
   ],
   "source": [
    "df = 50 # количество степеней свободы\n",
    "# сгенерируем выборку из 1000 элементов и построим гистограмму\n",
    "r = chi2.rvs(df, size=1000)\n",
    "plt.hist(r, 20, density=True, histtype='stepfilled', alpha=0.4, label='practical')\n",
    "# теперь постороим теоретическую функцию плотности вероятности поверх начального графика\n",
    "x = np.arange(25.,80.,0.5)\n",
    "plt.plot(x, chi2.pdf(x, df),'r', alpha=0.9, label='chi2 pdf')\n",
    "plt.legend(loc='best', frameon=False)\n",
    "plt.xlabel('x')\n",
    "plt.ylabel('Probability')"
   ]
  },
  {
   "cell_type": "markdown",
   "metadata": {},
   "source": [
    "Из графика видно, что получившаяся гистограмма относительно совпадает с функцией плотности вероятности нашего распределения. Такой результат мы и ожидали увидеть."
   ]
  },
  {
   "cell_type": "code",
   "execution_count": 32,
   "metadata": {},
   "outputs": [],
   "source": [
    "# создадим массив выборочных средних 3000 выборок размера 2,5,10,50 (по 1000 выборок для каждого размера)\n",
    "size = [5,10,50]\n",
    "sm = []\n",
    "bins = np.arange(40.,60.,0.5)\n",
    "for i in size:\n",
    "    for _ in itertools.repeat(None, 1000):\n",
    "        rv = chi2.rvs(df, size=i)\n",
    "        sm.append(np.mean(rv))"
   ]
  },
  {
   "cell_type": "code",
   "execution_count": 33,
   "metadata": {},
   "outputs": [
    {
     "data": {
      "text/plain": [
       "Text(0, 0.5, 'Probability')"
      ]
     },
     "execution_count": 33,
     "metadata": {},
     "output_type": "execute_result"
    },
    {
     "data": {
      "image/png": "[encoded data removed]",
      "text/plain": [
       "<Figure size 432x288 with 1 Axes>"
      ]
     },
     "metadata": {
      "needs_background": "light"
     },
     "output_type": "display_data"
    }
   ],
   "source": [
    "# построим гистограмму и график нормального распределения для выборки размера 5\n",
    "plt.hist(sm[0:1000], 20, density=True, histtype='stepfilled', alpha=0.4, label='mean hist')\n",
    "plt.plot(bins, norm.pdf(bins, df, np.sqrt(2*df/5.)),'r', alpha=0.4, label='norm pdf')\n",
    "plt.xlabel('Sample mean')\n",
    "plt.ylabel('Probability')"
   ]
  },
  {
   "cell_type": "code",
   "execution_count": 34,
   "metadata": {},
   "outputs": [
    {
     "data": {
      "text/plain": [
       "Text(0, 0.5, 'Probability')"
      ]
     },
     "execution_count": 34,
     "metadata": {},
     "output_type": "execute_result"
    },
    {
     "data": {
      "image/png": "[encoded data removed]",
      "text/plain": [
       "<Figure size 432x288 with 1 Axes>"
      ]
     },
     "metadata": {
      "needs_background": "light"
     },
     "output_type": "display_data"
    }
   ],
   "source": [
    "# построим гистограмму и график нормального распределения для выборки размера 10\n",
    "plt.hist(sm[1000:2000], 20, density=True, histtype='stepfilled', alpha=0.4, label='mean hist')\n",
    "plt.plot(bins, norm.pdf(bins, df, np.sqrt(2*df/10.)),'r', alpha=0.9, label='norm pdf')\n",
    "plt.xlabel('Sample mean')\n",
    "plt.ylabel('Probability')"
   ]
  },
  {
   "cell_type": "code",
   "execution_count": 35,
   "metadata": {},
   "outputs": [
    {
     "data": {
      "text/plain": [
       "Text(0, 0.5, 'Probability')"
      ]
     },
     "execution_count": 35,
     "metadata": {},
     "output_type": "execute_result"
    },
    {
     "data": {
      "image/png": "[encoded data removed]",
      "text/plain": [
       "<Figure size 432x288 with 1 Axes>"
      ]
     },
     "metadata": {
      "needs_background": "light"
     },
     "output_type": "display_data"
    }
   ],
   "source": [
    "# построим гистограмму и график нормального распределения для выборки размера 50\n",
    "plt.hist(sm[2000:3000], 20, density=True, histtype='stepfilled', alpha=0.4, label='mean hist')\n",
    "plt.plot(bins, norm.pdf(bins, df, np.sqrt(2*df/50.)),'r', alpha=0.9, label='norm pdf')\n",
    "plt.xlabel('Sample mean')\n",
    "plt.ylabel('Probability')"
   ]
  },
  {
   "cell_type": "markdown",
   "metadata": {},
   "source": [
    "### Вывод\n",
    "Осноные моменты центральной предельной теоремы выполняются: \n",
    "\n",
    "Во-первых, гистограмму распределения можно описать нормальным распределением.\n",
    "\n",
    "Во-вторых, заметно, что при увеличении размера выборки гистограмма начинает точнее напоминать нормальное распределение, а также можно увидеть, что дисперсия понижается (это очевидно из формул, но на графиках получается нагляднее)."
   ]
  },
  {
   "cell_type": "code",
   "execution_count": null,
   "metadata": {},
   "outputs": [],
   "source": []
  },
  {
   "cell_type": "code",
   "execution_count": null,
   "metadata": {},
   "outputs": [],
   "source": []
  },
  {
   "cell_type": "code",
   "execution_count": null,
   "metadata": {},
   "outputs": [],
   "source": []
  },
  {
   "cell_type": "code",
   "execution_count": null,
   "metadata": {},
   "outputs": [],
   "source": []
  },
  {
   "cell_type": "code",
   "execution_count": null,
   "metadata": {},
   "outputs": [],
   "source": []
  }
 ],
 "metadata": {
  "kernelspec": {
   "display_name": "Python 3",
   "language": "python",
   "name": "python3"
  },
  "language_info": {
   "codemirror_mode": {
    "name": "ipython",
    "version": 3
   },
   "file_extension": ".py",
   "mimetype": "text/x-python",
   "name": "python",
   "nbconvert_exporter": "python",
   "pygments_lexer": "ipython3",
   "version": "3.7.6"
  }
 },
 "nbformat": 4,
 "nbformat_minor": 4
}
