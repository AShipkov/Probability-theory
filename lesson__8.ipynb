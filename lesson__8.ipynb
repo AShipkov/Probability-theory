{
 "cells": [
  {
   "cell_type": "markdown",
   "metadata": {},
   "source": [
    "## Двухфакторный дисперсионный анализ. Факторный анализ. Логистическая регрессия\n",
    "### Задача 1\n",
    "Объясняемая переменная y зависит от двух категориальных факторов A и B, причём фактор A имеет 3 уровня, а фактор B - 4 уровня. Результаты наблюдений приведены в таблице:\n",
    "y = [[2.68, 3.29, 2.88, 4.45],\n",
    "     [4.12, 4.96, 5.09, 5.22],\n",
    "     [5.52, 4.50, 5.42, 5.29]]\n",
    "С помощью двухфакторного дисперсионного анализа проверьте влияние каждого из факторов на переменную y."
   ]
  },
  {
   "cell_type": "code",
   "execution_count": 5,
   "metadata": {},
   "outputs": [],
   "source": [
    "import numpy as np\n",
    "import pandas as pd\n",
    "from scipy import stats"
   ]
  },
  {
   "cell_type": "markdown",
   "metadata": {},
   "source": [
    "По каждому фактору проверяется нулевая гипотеза о равенстве средних значений на каждом уровне. Статистика для гипотезы о влиянии факторов $A$ и $B$:\n",
    "$$F_a = \\dfrac{\\sigma_a^2}{\\sigma_w^2}, \\:\\:\\ F_b = \\dfrac{\\sigma_b^2}{\\sigma_w^2}$$\n",
    "Эти статистики имеют распределение Фишера с параметрами $k_{1a} = m - 1$, $k_{2a} = n - m$ и $k_{1b} = k - 1$, $k_{2b} = n - k$ соответственно, где\n",
    "$m = 3$ - число уровней фактора $A$,\n",
    "$k = 4$ - число уровней фактора $B$,\n",
    "$n = 12$ - число наблюдений (m * k)\n",
    "$$\\sigma_a^2 = \\dfrac{S_a^2}{m - 1}, \\:\\: \\sigma_b^2 = \\dfrac{S_b^2}{k - 1}, \\:\\: \\sigma_w^2 = \\dfrac{S_w^2}{(k - 1) (m - 1)}$$\n",
    "$\\sigma_a^2$ и $\\sigma_b^2$ - оценки дисперсии между уровнями каждого фактора.\n",
    "$\\sigma_w^2$ - оценка дисперсии внутри всей выборки.\n",
    "$$S_a^2 = k \\cdot \\displaystyle\\sum_{i=1}^m \\left( \\overline{Y_{i \\ast}} - \\overline{Y} \\right)^2, \\:\\: S_b^2 = m \\cdot \\displaystyle\\sum_{j=1}^k \\left( \\overline{Y_{\\ast j}} - \\overline{Y} \\right)^2, \\:\\: S_w^2 = \\displaystyle\\sum_{i=1}^m \\displaystyle\\sum_{j=1}^k \\left( y_{ij} - \\overline{Y_{i \\ast}} - \\overline{Y_{\\ast j}} + \\overline{Y} \\right)^2$$\n",
    "$\\overline{Y}$ - среднее значение целевой переменной по всей выборке.\n",
    "$\\overline{Y_{i \\ast}}$ - среднее значение переменной $y$ на $i$-м уровне фактора $A$.\n",
    "$\\overline{Y_{\\ast j}}$ - среднее значение переменной $y$ на $j$-м уровне фактора $B$."
   ]
  },
  {
   "cell_type": "code",
   "execution_count": 9,
   "metadata": {},
   "outputs": [
    {
     "name": "stdout",
     "output_type": "stream",
     "text": [
      "m=3,k=4,n=12\n",
      "cреднее значение  : \t4.451666666666666 \n",
      "среднее значение А: \t[3.325  4.8475 5.1825] \n",
      "среднее значение B: \t[4.10666667 4.25       4.46333333 4.98666667]\n"
     ]
    }
   ],
   "source": [
    "y = np.array([  [2.68, 3.29, 2.88, 4.45],\n",
    "                [4.12, 4.96, 5.09, 5.22],\n",
    "                [5.52, 4.50, 5.42, 5.29]])\n",
    "m, k = y.shape\n",
    "n = y.size\n",
    "# cреднее значение по всей выборке\n",
    "Y_mean = y.mean()\n",
    "Y_mean\n",
    "# среднее значение переменной  фактора  𝐴  по строкам\n",
    "Y_A_mean = y.mean(axis=1)\n",
    "Y_A_mean\n",
    "# среднее значение переменной фактора  𝐵 по столбцам\n",
    "Y_B_mean = y.mean(axis=0)\n",
    "Y_B_mean\n",
    "print(f'm={m},k={k},n={n}')\n",
    "print(f'cреднее значение  : \\t{Y_mean} \\nсреднее значение А: \\t{Y_A_mean} \\nсреднее значение B: \\t{(Y_B_mean)}')"
   ]
  },
  {
   "cell_type": "markdown",
   "metadata": {},
   "source": [
    "Суммы квадратов отклонений: $S_a^2$ и $S_b^2$\\\n",
    "оценки дисперсии\\\n",
    "𝜎2𝑎 и 𝜎2𝑏 - оценки дисперсии между уровнями каждого фактора\\\n",
    "𝜎2𝑤 - оценка дисперсии внутри всей выборки."
   ]
  },
  {
   "cell_type": "code",
   "execution_count": 13,
   "metadata": {},
   "outputs": [
    {
     "name": "stdout",
     "output_type": "stream",
     "text": [
      "S2_A=7.8407166666666654, S2_B=1.338166666666669,S2_W=1.9298833333333327\n",
      "simga2_A=3.9203583333333327, simga2_B=0.4460555555555563, sigma2_W=0.32164722222222214\n"
     ]
    }
   ],
   "source": [
    "S2_A = k * ((Y_A_mean -Y_mean)**2).sum()\n",
    "S2_B = m * ((Y_B_mean -Y_mean)**2).sum()\n",
    "S2_W = 0\n",
    "for i in range(3):\n",
    "    for j in range(4):\n",
    "        S2_W += (y[i][j] - Y_A_mean[i] - Y_B_mean[j] + Y_mean)**2\n",
    "simga2_A = S2_A / (m-1)\n",
    "simga2_B = S2_B / (k-1)\n",
    "sigma2_W = S2_W / ((k-1)*(m-1))\n",
    "print(f'S2_A={S2_A}, S2_B={S2_B},S2_W={S2_W}')\n",
    "print(f'simga2_A={simga2_A}, simga2_B={simga2_B}, sigma2_W={sigma2_W}')"
   ]
  },
  {
   "cell_type": "markdown",
   "metadata": {},
   "source": [
    "По каждому фактору проверяется нулевая гипотеза о равенстве средних значений на каждом уровне. Статистика для гипотезы о влиянии факторов 𝐴 и 𝐵 :"
   ]
  },
  {
   "cell_type": "code",
   "execution_count": 24,
   "metadata": {},
   "outputs": [
    {
     "name": "stdout",
     "output_type": "stream",
     "text": [
      "Фактор А:F_A=12.1884, F_A_critical=4.2565, F_A<F_A_critical->False\n",
      "Фактор B: F_B=1.3868, F_B_critical=4.2565, F_B<F_B_critical->True\n"
     ]
    }
   ],
   "source": [
    "# Фактор А\n",
    "# параметрами распределение Фишера\n",
    "alpha = 0.05\n",
    "k1_A = m - 1\n",
    "k2_A = n - m\n",
    "# Статистика\n",
    "F_A = simga2_A / sigma2_W\n",
    "# F-critical, уровень значимости α=0.05\n",
    "F_A_critical = stats.f.ppf(1-alpha, k1_A, k2_A)\n",
    "# Фактор B\n",
    "alpha = 0.05\n",
    "k1_B = k - 1\n",
    "k2_B = n - k\n",
    "F_B = simga2_B / sigma2_W\n",
    "F_B_critical = stats.f.ppf(1-alpha, k1_A, k2_A)\n",
    "print(f'Фактор А:F_A={round(F_A,4)}, F_A_critical={round(F_A_critical,4)}, F_A<F_A_critical->{F_A<F_A_critical}')\n",
    "print(f'Фактор B: F_B={round(F_B,4)}, F_B_critical={round(F_B_critical,4)}, F_B<F_B_critical->{F_B<F_B_critical}')"
   ]
  },
  {
   "cell_type": "markdown",
   "metadata": {},
   "source": [
    "$F_a \\gt F_{a\\:critical}$ Нулевая гипотеза о равенстве средних значений на уровнях фактора $A$ отвергается. Значение фактора $A$ влияет на результат.\n",
    "$F_b \\lt F_{b\\:critical}$ Нулевая гипотеза о равенстве средних значений на уровнях фактора $B$ принимается. Значение фактора $В$ не влияет на результат."
   ]
  },
  {
   "cell_type": "markdown",
   "metadata": {},
   "source": [
    "### Задача 2"
   ]
  },
  {
   "cell_type": "markdown",
   "metadata": {},
   "source": [
    "Тема \"Прогнозирование медицинских выплат, оплачиваемых медицинской страховкой\""
   ]
  },
  {
   "cell_type": "markdown",
   "metadata": {},
   "source": [
    "Данные датасета:\n",
    "1)age: возраст основного бенефициара\n",
    "2)sex: страховой подрядчик пол, женщина, мужчина\n",
    "3)bmi: индекс массы тела, обеспечивающий понимание тела, веса, которые являются относительно высокими или низкими по отношению к росту, объективный индекс массы тела (кг / м ^ 2), использующий отношение роста к весу, в идеале от 18,5 до 24,9\n",
    "4)children: Количество детей, охваченных медицинской страховкой / количество иждивенцев\n",
    "5)smoker: курение\n",
    "6)region: жилой район получателя в США, северо-восток, юго-восток, юго-запад, северо-запад.\n",
    "7)charges: индивидуальные медицинские расходы, оплачиваемые медицинской страховкой\n",
    "\n",
    "Я попытаюсь определить: \n",
    "1)предикторные переменные, анализируя набор данных \n",
    "2)определение корреляции между данными\n",
    "3)определение регрессионных связей\n",
    "для прогнозирования цены страхования.\n"
   ]
  },
  {
   "cell_type": "code",
   "execution_count": 10,
   "metadata": {},
   "outputs": [
    {
     "data": {
      "text/html": [
       "<div>\n",
       "<style scoped>\n",
       "    .dataframe tbody tr th:only-of-type {\n",
       "        vertical-align: middle;\n",
       "    }\n",
       "\n",
       "    .dataframe tbody tr th {\n",
       "        vertical-align: top;\n",
       "    }\n",
       "\n",
       "    .dataframe thead th {\n",
       "        text-align: right;\n",
       "    }\n",
       "</style>\n",
       "<table border=\"1\" class=\"dataframe\">\n",
       "  <thead>\n",
       "    <tr style=\"text-align: right;\">\n",
       "      <th></th>\n",
       "      <th>sex</th>\n",
       "      <th>bmi</th>\n",
       "      <th>children</th>\n",
       "      <th>smoker</th>\n",
       "      <th>region</th>\n",
       "      <th>charges</th>\n",
       "    </tr>\n",
       "    <tr>\n",
       "      <th>age</th>\n",
       "      <th></th>\n",
       "      <th></th>\n",
       "      <th></th>\n",
       "      <th></th>\n",
       "      <th></th>\n",
       "      <th></th>\n",
       "    </tr>\n",
       "  </thead>\n",
       "  <tbody>\n",
       "    <tr>\n",
       "      <th>19</th>\n",
       "      <td>female</td>\n",
       "      <td>27.900</td>\n",
       "      <td>0</td>\n",
       "      <td>yes</td>\n",
       "      <td>southwest</td>\n",
       "      <td>16884.92400</td>\n",
       "    </tr>\n",
       "    <tr>\n",
       "      <th>18</th>\n",
       "      <td>male</td>\n",
       "      <td>33.770</td>\n",
       "      <td>1</td>\n",
       "      <td>no</td>\n",
       "      <td>southeast</td>\n",
       "      <td>1725.55230</td>\n",
       "    </tr>\n",
       "    <tr>\n",
       "      <th>28</th>\n",
       "      <td>male</td>\n",
       "      <td>33.000</td>\n",
       "      <td>3</td>\n",
       "      <td>no</td>\n",
       "      <td>southeast</td>\n",
       "      <td>4449.46200</td>\n",
       "    </tr>\n",
       "    <tr>\n",
       "      <th>33</th>\n",
       "      <td>male</td>\n",
       "      <td>22.705</td>\n",
       "      <td>0</td>\n",
       "      <td>no</td>\n",
       "      <td>northwest</td>\n",
       "      <td>21984.47061</td>\n",
       "    </tr>\n",
       "    <tr>\n",
       "      <th>32</th>\n",
       "      <td>male</td>\n",
       "      <td>28.880</td>\n",
       "      <td>0</td>\n",
       "      <td>no</td>\n",
       "      <td>northwest</td>\n",
       "      <td>3866.85520</td>\n",
       "    </tr>\n",
       "    <tr>\n",
       "      <th>31</th>\n",
       "      <td>female</td>\n",
       "      <td>25.740</td>\n",
       "      <td>0</td>\n",
       "      <td>no</td>\n",
       "      <td>southeast</td>\n",
       "      <td>3756.62160</td>\n",
       "    </tr>\n",
       "    <tr>\n",
       "      <th>46</th>\n",
       "      <td>female</td>\n",
       "      <td>33.440</td>\n",
       "      <td>1</td>\n",
       "      <td>no</td>\n",
       "      <td>southeast</td>\n",
       "      <td>8240.58960</td>\n",
       "    </tr>\n",
       "    <tr>\n",
       "      <th>37</th>\n",
       "      <td>female</td>\n",
       "      <td>27.740</td>\n",
       "      <td>3</td>\n",
       "      <td>no</td>\n",
       "      <td>northwest</td>\n",
       "      <td>7281.50560</td>\n",
       "    </tr>\n",
       "    <tr>\n",
       "      <th>37</th>\n",
       "      <td>male</td>\n",
       "      <td>29.830</td>\n",
       "      <td>2</td>\n",
       "      <td>no</td>\n",
       "      <td>northeast</td>\n",
       "      <td>6406.41070</td>\n",
       "    </tr>\n",
       "    <tr>\n",
       "      <th>60</th>\n",
       "      <td>female</td>\n",
       "      <td>25.840</td>\n",
       "      <td>0</td>\n",
       "      <td>no</td>\n",
       "      <td>northwest</td>\n",
       "      <td>28923.13692</td>\n",
       "    </tr>\n",
       "  </tbody>\n",
       "</table>\n",
       "</div>"
      ],
      "text/plain": [
       "        sex     bmi  children smoker     region      charges\n",
       "age                                                         \n",
       "19   female  27.900         0    yes  southwest  16884.92400\n",
       "18     male  33.770         1     no  southeast   1725.55230\n",
       "28     male  33.000         3     no  southeast   4449.46200\n",
       "33     male  22.705         0     no  northwest  21984.47061\n",
       "32     male  28.880         0     no  northwest   3866.85520\n",
       "31   female  25.740         0     no  southeast   3756.62160\n",
       "46   female  33.440         1     no  southeast   8240.58960\n",
       "37   female  27.740         3     no  northwest   7281.50560\n",
       "37     male  29.830         2     no  northeast   6406.41070\n",
       "60   female  25.840         0     no  northwest  28923.13692"
      ]
     },
     "execution_count": 10,
     "metadata": {},
     "output_type": "execute_result"
    }
   ],
   "source": [
    "data1 = pd.read_csv('insurance.csv', index_col=0, encoding='utf-8')\n",
    "data = data1.copy()\n",
    "data1.head(10)"
   ]
  },
  {
   "cell_type": "code",
   "execution_count": null,
   "metadata": {},
   "outputs": [],
   "source": []
  }
 ],
 "metadata": {
  "kernelspec": {
   "display_name": "Python 3",
   "language": "python",
   "name": "python3"
  },
  "language_info": {
   "codemirror_mode": {
    "name": "ipython",
    "version": 3
   },
   "file_extension": ".py",
   "mimetype": "text/x-python",
   "name": "python",
   "nbconvert_exporter": "python",
   "pygments_lexer": "ipython3",
   "version": "3.7.6"
  }
 },
 "nbformat": 4,
 "nbformat_minor": 4
}
